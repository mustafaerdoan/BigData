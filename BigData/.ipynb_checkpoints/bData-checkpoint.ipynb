{
 "cells": [
  {
   "cell_type": "code",
   "execution_count": null,
   "metadata": {},
   "outputs": [],
   "source": [
    "In [7]:\n",
    "str1 = \"ABRACADABRA\"\n",
    "str2 = \"BRICABRAC\"\n",
    "\n",
    "def getShingles(str):\n",
    "    shingles = []\n",
    "    doc_shingles = []\n",
    "    for i in range(len(str)-1):\n",
    "        shingles.append(str[i]+str[i+1])\n",
    "    return set(shingles)\n",
    "        \n",
    "def getCommon(list1,list2):\n",
    "    s1 = set(list1)\n",
    "    s2 = set(list2)\n",
    "    return len(s1.intersection(s2))\n",
    "\n",
    "def getTotal(list1,list2):\n",
    "    s1 = set(list1)\n",
    "    s2 = set(list2)\n",
    "    return len(s1.union(s2))"
   ]
  },
  {
   "cell_type": "code",
   "execution_count": null,
   "metadata": {},
   "outputs": [],
   "source": [
    "In [8]:\n",
    "print \"Set of 2-shinlges in ABRACADABRA =\",  getShingles(str1)\n",
    "print \"Set of 2-shinlges in BRICABRAC =\", getShingles(str2)\n",
    "print\n",
    "print \"Number of 2-shinlges in ABRACADABRA = \", len(getShingles(str1))\n",
    "print \"Number of 2-shinlges in BRICABRAC = \", len(getShingles(str2))\n",
    "print\n",
    "print \"Number of Common Shingles = \", getCommon(getShingles(str1),getShingles(str2))\n",
    "print \"Total Number of Shingles = \", getTotal(getShingles(str1),getShingles(str2))"
   ]
  },
  {
   "cell_type": "code",
   "execution_count": null,
   "metadata": {},
   "outputs": [],
   "source": [
    "Set of 2-shinlges in ABRACADABRA = set(['AC', 'AB', 'AD', 'CA', 'DA', 'RA', 'BR'])\n",
    "Set of 2-shinlges in BRICABRAC = set(['AC', 'AB', 'CA', 'RA', 'BR', 'IC', 'RI'])\n",
    "\n",
    "Number of 2-shinlges in ABRACADABRA =  7\n",
    "Number of 2-shinlges in BRICABRAC =  7\n",
    "\n",
    "Number of Common Shingles =  5\n",
    "Total Number of Shingles =  9"
   ]
  },
  {
   "cell_type": "code",
   "execution_count": null,
   "metadata": {},
   "outputs": [],
   "source": [
    "1.Shingles Answers:\n",
    "# Calculate unique shingles for two documents.\n",
    "shingles1 <- shingles('ABRACADABRA', 2)\n",
    "shingles2 <- shingles('BRICABRAC', 2)\n",
    "1.a)\n",
    "# How many 2-shingles does ABRACADABRA have?\n",
    "length(shingles1)\n",
    "# 7\n",
    "# ABRACADABRA\n",
    "# AB, BR, RA, AC, CA, AD, DA, AB, BR, RA\n",
    "# AB, BR, RA, AC, CA, AD, DA\n",
    "1.b)\n",
    "# How many 2-shingles does BRICABRAC have?\n",
    "length(shingles2)\n",
    "# 7\n",
    "# BRICABRAC\n",
    "# BR, RI, IC, CA, AB, BR, RA, AC\n",
    "# BR, RI, IC, CA, AB, RA, AC\n",
    "1.c)\n",
    "# How many 2-shingles do they have in common?\n",
    "intersect(shingles1, shingles2)\n",
    "# 5\n",
    "# Union:\n",
    "# AB, BR, RA, AC, CA, AD, DA, RI, IC\n",
    "1.d)\n",
    "# What is the Jaccard similarity between the two documents\"?\n",
    "print(paste(length(intersect(shingles1, shingles2)), length(union(shingles1, shingles2)), sep = '/'))\n",
    "length(intersect(shingles1, shingles2)) / length(union(shingles1, shingles2))\n",
    "# 5/9\n",
    "\n",
    "\n",
    "\n",
    "\n"
   ]
  }
 ],
 "metadata": {
  "kernelspec": {
   "display_name": "Python 3 (ipykernel)",
   "language": "python",
   "name": "python3"
  },
  "language_info": {
   "codemirror_mode": {
    "name": "ipython",
    "version": 3
   },
   "file_extension": ".py",
   "mimetype": "text/x-python",
   "name": "python",
   "nbconvert_exporter": "python",
   "pygments_lexer": "ipython3",
   "version": "3.10.4"
  }
 },
 "nbformat": 4,
 "nbformat_minor": 2
}
