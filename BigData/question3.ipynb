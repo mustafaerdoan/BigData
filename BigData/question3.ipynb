{
 "cells": [
  {
   "cell_type": "code",
   "execution_count": null,
   "metadata": {},
   "outputs": [],
   "source": [
    "In [6]:\n",
    "def candPair(x, y):\n",
    "    i = 0\n",
    "    while i < len(x):\n",
    "        j = i + 1\n",
    "        while j < len(x):\n",
    "            if x[i] == x [j] and y[i] == y[j]:\n",
    "                print \"C%s,C%s\" % (i+1,j+1)\n",
    "            j += 1\n",
    "        i += 1\n",
    "\n",
    "print \"Candidate pairs:\"\n",
    "candPair([1,2,1,1,2,5,4], [2,3,4,2,3,2,2])\n",
    "candPair([3,1,2,3,1,3,2], [4,1,3,1,2,4,4])\n",
    "candPair([5,2,5,1,1,5,1], [6,1,6,4,1,1,4])"
   ]
  },
  {
   "cell_type": "markdown",
   "metadata": {},
   "source": [
    "Candidate pairs:\n",
    "C1,C4\n",
    "C2,C5\n",
    "C1,C6\n",
    "C1,C3\n",
    "C4,C7"
   ]
  }
 ],
 "metadata": {
  "kernelspec": {
   "display_name": "Python 3 (ipykernel)",
   "language": "python",
   "name": "python3"
  },
  "language_info": {
   "codemirror_mode": {
    "name": "ipython",
    "version": 3
   },
   "file_extension": ".py",
   "mimetype": "text/x-python",
   "name": "python",
   "nbconvert_exporter": "python",
   "pygments_lexer": "ipython3",
   "version": "3.10.4"
  }
 },
 "nbformat": 4,
 "nbformat_minor": 2
}
